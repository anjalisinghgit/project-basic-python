{
 "cells": [
  {
   "cell_type": "code",
   "execution_count": null,
   "id": "77a4e92d-b772-46c8-b2a7-b26f5cff5d2b",
   "metadata": {},
   "outputs": [],
   "source": [
    "# Explain the key features of Python that make it a popular choice for programming.\n",
    "\n",
    "_the key features of python that make it a popular choice for programming are-\n",
    ">> It is easy to understand and write\n",
    ">> It is an object oriented programming language\n",
    ">> It has an extensive standard library\n",
    ">> It has a large and active community of developers\n",
    ">> It is a high-level,general-purpose programming language"
   ]
  },
  {
   "cell_type": "markdown",
   "id": "5af5d892-a7fe-4980-9575-67938f299abc",
   "metadata": {
    "jupyter": {
     "source_hidden": true
    },
    "tags": []
   },
   "source": [
    "# Describe the role of predefined keywords in Python and provide examples of how they are used in a program.\n",
    "\n",
    "_predefine keywords are reserved words in python that have special meaning.These keywords are case-sensitive and cannot be redefined or overridden within a python program.\n",
    "These are used to define the syntax of the coding.\n",
    "#examples of keywords >> if, elif, else, True, False, break, continue, none, while, class etc.\n",
    " >> \"if, else, elif\" are the conditional statements.they are executed when the condition is true.\n",
    " >> \"Break\" it alters the flow of a loop by terminating it once a specified condition is met.\n",
    " >> \"continue\" it is used to skip the iteration.\n",
    " >> \"while\" it is used to create a while loop.It will continue until the statement is false."
   ]
  },
  {
   "cell_type": "code",
   "execution_count": 1,
   "id": "9b0d0e62-f0cc-4738-9584-936f8b8313e5",
   "metadata": {},
   "outputs": [
    {
     "name": "stdout",
     "output_type": "stream",
     "text": [
      "no. is smaller than 100\n"
     ]
    }
   ],
   "source": [
    "#if-elif-else condition\n",
    "\n",
    "a=20\n",
    "if a>100:\n",
    "    print(\"no. is greater than 100\")\n",
    "elif a<100:\n",
    "    print(\"no. is smaller than 100\")\n",
    "else:\n",
    "    print(\"the no. is equal to 100\")"
   ]
  },
  {
   "cell_type": "code",
   "execution_count": null,
   "id": "c908b0bf-e960-44b4-8082-c6318e33a40d",
   "metadata": {},
   "outputs": [],
   "source": [
    "# Compare and contrast mutable and immutable objects in Python with examples\n",
    "\n",
    ">> The objects/containers whose state or value can be changed after they are created are called Mutable objects. \n",
    "Examples- lists, dictionaries\n",
    ">> The objects/containers whose state or value cannot be changed after they are created are called Immutable objects. \n",
    "Examples- strings, integers,tuples"
   ]
  },
  {
   "cell_type": "code",
   "execution_count": 2,
   "id": "5d7dc797-c586-4a51-b1d6-fd06b8e0e806",
   "metadata": {},
   "outputs": [
    {
     "data": {
      "text/plain": [
       "1"
      ]
     },
     "execution_count": 2,
     "metadata": {},
     "output_type": "execute_result"
    }
   ],
   "source": [
    "list_cont=[1, 2, 3.6, 'rohan']\n",
    "list_cont[0]"
   ]
  },
  {
   "cell_type": "code",
   "execution_count": 3,
   "id": "de015a06-b6a5-458d-8e93-79907f901c47",
   "metadata": {},
   "outputs": [
    {
     "data": {
      "text/plain": [
       "[1, '4+6j', 3.6, 'rohan']"
      ]
     },
     "execution_count": 3,
     "metadata": {},
     "output_type": "execute_result"
    }
   ],
   "source": [
    "list_cont[1]='4+6j'\n",
    "list_cont"
   ]
  },
  {
   "cell_type": "code",
   "execution_count": null,
   "id": "628fb5db-c67a-42c1-bccf-70220e217cf8",
   "metadata": {},
   "outputs": [],
   "source": [
    "# Discuss the different types of operators in Python and provide examples of how they are used\n",
    "\n",
    "_The different types of operators are-\n",
    ">> Arithmetic operators (+,-,*,/)\n",
    "# it is used to perform mathematical calculation\n",
    ">> Comparison operators (==,!=,>,<,<=,>=)\n",
    "# it is used to compare two values\n",
    ">> Assignment operators ( +=,-=,*=,/=)\n",
    "# it is used to assign values to the variables\n",
    ">> Logical operators (and,or,not)\n",
    "# it is used to combine conditional statements\n",
    ">> Identity operators (is,is not)\n",
    "# it compares the memory location of two objects\n",
    ">> Membership operators (in,not in)\n",
    "# it is used to test if the sequence is printed in an object\n",
    ">> Bitwise operators (and,or,XOR)\n",
    "# it is used to compare (Binary) numbers"
   ]
  },
  {
   "cell_type": "code",
   "execution_count": 4,
   "id": "67e28e2d-cdb0-436a-b23d-edc6951947d2",
   "metadata": {},
   "outputs": [
    {
     "name": "stdout",
     "output_type": "stream",
     "text": [
      "7\n"
     ]
    }
   ],
   "source": [
    "# Arithmeric operators\n",
    "a=2\n",
    "b=5\n",
    "print(a+b)"
   ]
  },
  {
   "cell_type": "code",
   "execution_count": 5,
   "id": "0cb25b4c-e34e-411e-9365-9e4423010381",
   "metadata": {},
   "outputs": [
    {
     "name": "stdout",
     "output_type": "stream",
     "text": [
      "10\n"
     ]
    }
   ],
   "source": [
    "print(a*b)"
   ]
  },
  {
   "cell_type": "code",
   "execution_count": 6,
   "id": "e72a201a-2b20-482d-8fa8-4c1f1f388808",
   "metadata": {},
   "outputs": [
    {
     "data": {
      "text/plain": [
       "False"
      ]
     },
     "execution_count": 6,
     "metadata": {},
     "output_type": "execute_result"
    }
   ],
   "source": [
    "#Comparison operators\n",
    "a=5\n",
    "b=3\n",
    "a==b"
   ]
  },
  {
   "cell_type": "code",
   "execution_count": 20,
   "id": "25c70afe-8b63-4f28-a36c-ddf2a9662720",
   "metadata": {},
   "outputs": [
    {
     "data": {
      "text/plain": [
       "True"
      ]
     },
     "execution_count": 20,
     "metadata": {},
     "output_type": "execute_result"
    }
   ],
   "source": [
    "a!=b"
   ]
  },
  {
   "cell_type": "code",
   "execution_count": 8,
   "id": "1a85ffb6-2ce4-43ee-ba03-857cbeec3f0f",
   "metadata": {},
   "outputs": [
    {
     "data": {
      "text/plain": [
       "9"
      ]
     },
     "execution_count": 8,
     "metadata": {},
     "output_type": "execute_result"
    }
   ],
   "source": [
    "#Assignment operators\n",
    "a=4\n",
    "a+=5\n",
    "a"
   ]
  },
  {
   "cell_type": "code",
   "execution_count": 9,
   "id": "cb54c459-bb8e-4674-83ef-0df802ccb99f",
   "metadata": {},
   "outputs": [
    {
     "data": {
      "text/plain": [
       "72"
      ]
     },
     "execution_count": 9,
     "metadata": {},
     "output_type": "execute_result"
    }
   ],
   "source": [
    "a*=8\n",
    "a"
   ]
  },
  {
   "cell_type": "code",
   "execution_count": 17,
   "id": "201db984-3b16-442c-bdb8-b9ea22451ab8",
   "metadata": {},
   "outputs": [
    {
     "data": {
      "text/plain": [
       "True"
      ]
     },
     "execution_count": 17,
     "metadata": {},
     "output_type": "execute_result"
    }
   ],
   "source": [
    "#logical operators\n",
    "True and True"
   ]
  },
  {
   "cell_type": "code",
   "execution_count": 18,
   "id": "5ab6b6dd-d9c1-4c50-99b9-12aad6855536",
   "metadata": {},
   "outputs": [
    {
     "data": {
      "text/plain": [
       "False"
      ]
     },
     "execution_count": 18,
     "metadata": {},
     "output_type": "execute_result"
    }
   ],
   "source": [
    "False and False"
   ]
  },
  {
   "cell_type": "code",
   "execution_count": 19,
   "id": "5f6abef6-6692-4d25-a201-f4c30827ab33",
   "metadata": {},
   "outputs": [
    {
     "data": {
      "text/plain": [
       "True"
      ]
     },
     "execution_count": 19,
     "metadata": {},
     "output_type": "execute_result"
    }
   ],
   "source": [
    "True or False"
   ]
  },
  {
   "cell_type": "code",
   "execution_count": 12,
   "id": "46e51d27-f3a3-4bb1-9250-e24c7f3087eb",
   "metadata": {},
   "outputs": [
    {
     "data": {
      "text/plain": [
       "False"
      ]
     },
     "execution_count": 12,
     "metadata": {},
     "output_type": "execute_result"
    }
   ],
   "source": [
    "#Identity operators\n",
    "a=5\n",
    "b=6\n",
    "a is b"
   ]
  },
  {
   "cell_type": "code",
   "execution_count": 13,
   "id": "96d14232-b4a1-4552-9fa5-1e0ebd67bf52",
   "metadata": {},
   "outputs": [
    {
     "data": {
      "text/plain": [
       "True"
      ]
     },
     "execution_count": 13,
     "metadata": {},
     "output_type": "execute_result"
    }
   ],
   "source": [
    "#Membership operators\n",
    "a=\"sneha\"\n",
    "\"e\" in a"
   ]
  },
  {
   "cell_type": "code",
   "execution_count": 14,
   "id": "42fc5acc-a725-4256-9248-fd6fb969b005",
   "metadata": {},
   "outputs": [
    {
     "data": {
      "text/plain": [
       "False"
      ]
     },
     "execution_count": 14,
     "metadata": {},
     "output_type": "execute_result"
    }
   ],
   "source": [
    "\"na\" in a"
   ]
  },
  {
   "cell_type": "code",
   "execution_count": 23,
   "id": "95d1381c-f3fb-4d31-92df-aae5e92de783",
   "metadata": {},
   "outputs": [
    {
     "data": {
      "text/plain": [
       "0"
      ]
     },
     "execution_count": 23,
     "metadata": {},
     "output_type": "execute_result"
    }
   ],
   "source": [
    "#Bitwise operators\n",
    "5 & 10"
   ]
  },
  {
   "cell_type": "code",
   "execution_count": 24,
   "id": "7a0304e9-6ac2-4dc4-b26a-775921cd65cf",
   "metadata": {},
   "outputs": [
    {
     "data": {
      "text/plain": [
       "15"
      ]
     },
     "execution_count": 24,
     "metadata": {},
     "output_type": "execute_result"
    }
   ],
   "source": [
    "5|10"
   ]
  },
  {
   "cell_type": "code",
   "execution_count": null,
   "id": "c5596efb-c2b8-4ae3-b3c6-6482bd92459e",
   "metadata": {},
   "outputs": [],
   "source": [
    "# Explain the concept of type casting in Python with examples.\n",
    "\n",
    "_Type casting is also known as type conversion.It is the process of changing one data type to another in python.\n",
    "It is necessary for performing arithmetic operations,data manipulation and input/output operations.\n",
    ">> type casting such as int(), float(), str(), list(),etc."
   ]
  },
  {
   "cell_type": "code",
   "execution_count": 25,
   "id": "2608ca1e-815e-4f16-95cd-83c5e6a40b2f",
   "metadata": {},
   "outputs": [
    {
     "data": {
      "text/plain": [
       "str"
      ]
     },
     "execution_count": 25,
     "metadata": {},
     "output_type": "execute_result"
    }
   ],
   "source": [
    "# To change string into integers\n",
    "a = \"500\"\n",
    "type(a)"
   ]
  },
  {
   "cell_type": "code",
   "execution_count": 26,
   "id": "729b2dfe-f949-4d75-87cf-64b1e6ccb732",
   "metadata": {},
   "outputs": [
    {
     "data": {
      "text/plain": [
       "600"
      ]
     },
     "execution_count": 26,
     "metadata": {},
     "output_type": "execute_result"
    }
   ],
   "source": [
    "a= int(a)\n",
    "a+100"
   ]
  },
  {
   "cell_type": "code",
   "execution_count": 30,
   "id": "56816a65-4218-4f05-b02d-7fc4225b1bb2",
   "metadata": {},
   "outputs": [
    {
     "data": {
      "text/plain": [
       "str"
      ]
     },
     "execution_count": 30,
     "metadata": {},
     "output_type": "execute_result"
    }
   ],
   "source": [
    "# To change string into float\n",
    "\n",
    "a=\"4.2\"\n",
    "type(a)"
   ]
  },
  {
   "cell_type": "code",
   "execution_count": 37,
   "id": "5de6e41a-8e68-4e05-8de2-368c39da81f5",
   "metadata": {},
   "outputs": [
    {
     "name": "stdout",
     "output_type": "stream",
     "text": [
      "4.2\n"
     ]
    }
   ],
   "source": [
    "a=float(a)\n",
    "print(float(a))"
   ]
  },
  {
   "cell_type": "code",
   "execution_count": null,
   "id": "1196e963-d5ff-4df7-8486-4510cbee5fd0",
   "metadata": {},
   "outputs": [],
   "source": [
    "# How do conditional statements work in Python? Illustrate with examples\n",
    "\n",
    "Conditional statements are used to code decisions.\n",
    "There are 3 types of conditional statements\n",
    ">>If \n",
    ">>If-else\n",
    ">>If-elif-else\n",
    "\n",
    "If the condition is True, the code block intented below the if statement will be executed.\n",
    "If the condition is false, the code block will be skipped"
   ]
  },
  {
   "cell_type": "code",
   "execution_count": 39,
   "id": "e0274cd0-17ca-42d8-b04f-094b03e105b5",
   "metadata": {},
   "outputs": [
    {
     "name": "stdout",
     "output_type": "stream",
     "text": [
      "a is smaller number\n"
     ]
    }
   ],
   "source": [
    "#if condition\n",
    "a=10\n",
    "if a>3:\n",
    "    print(\"a is smaller number\")\n",
    "    "
   ]
  },
  {
   "cell_type": "code",
   "execution_count": 40,
   "id": "f6a7253e-127b-4001-beed-009489a2c8de",
   "metadata": {},
   "outputs": [
    {
     "name": "stdout",
     "output_type": "stream",
     "text": [
      "a is greater than 50\n"
     ]
    }
   ],
   "source": [
    "#if-else condition\n",
    "a=100\n",
    "if a>50:\n",
    "    print(\"a is greater than 50\")\n",
    "else:\n",
    "    print(\"a is smaller than 50\")"
   ]
  },
  {
   "cell_type": "code",
   "execution_count": 41,
   "id": "4a6ab684-aaf1-4a5b-a34c-1b5078f1fca7",
   "metadata": {},
   "outputs": [
    {
     "name": "stdout",
     "output_type": "stream",
     "text": [
      "a is greater no.\n"
     ]
    }
   ],
   "source": [
    "#if-elif-else condition\n",
    "a=92\n",
    "if a>50:\n",
    "    print(\"a is greater no.\")\n",
    "elif a<50:\n",
    "    print(\"a is smaller no.\")\n",
    "else:\n",
    "    print(\"a is equal to 50\")\n"
   ]
  },
  {
   "cell_type": "code",
   "execution_count": null,
   "id": "dba2ebda-cd25-46a9-a1f6-eb37c25a60ab",
   "metadata": {},
   "outputs": [],
   "source": [
    "# Describe the different types of loops in Python and their use cases with examples\n",
    "\n",
    "\n",
    "It allows to execute a block of codes repeatedly.\n",
    "It is of 2 types-\n",
    ">> While loop \n",
    ">> For loop\n"
   ]
  },
  {
   "cell_type": "code",
   "execution_count": 42,
   "id": "f96b0ad4-016a-4d47-971a-8fd0e4067c9c",
   "metadata": {},
   "outputs": [
    {
     "name": "stdout",
     "output_type": "stream",
     "text": [
      "1\n",
      "2\n",
      "3\n",
      "4\n",
      "5\n",
      "6\n"
     ]
    }
   ],
   "source": [
    "# While loop >> it repeatedly execute a block of code untill a condition is met.\n",
    "\n",
    "n=7\n",
    "i=1\n",
    "while i<n:\n",
    "    print(i)\n",
    "    i=i+1"
   ]
  },
  {
   "cell_type": "code",
   "execution_count": null,
   "id": "e630a895-1644-4cc6-83a4-e10533dda232",
   "metadata": {},
   "outputs": [],
   "source": [
    "# For loops >> it iterate over a sequence of elements  >> strings, list"
   ]
  },
  {
   "cell_type": "code",
   "execution_count": 43,
   "id": "cfa1334f-a887-43d4-af48-d8a2dfede933",
   "metadata": {},
   "outputs": [
    {
     "name": "stdout",
     "output_type": "stream",
     "text": [
      "p\n",
      "w\n",
      "s\n",
      "k\n",
      "i\n",
      "l\n",
      "l\n",
      "s\n"
     ]
    }
   ],
   "source": [
    "for i in \"pwskills\":\n",
    "    print(i)"
   ]
  },
  {
   "cell_type": "code",
   "execution_count": null,
   "id": "205cec59-23c5-4f69-bd7a-5f6ce2cbc73a",
   "metadata": {},
   "outputs": [],
   "source": []
  },
  {
   "cell_type": "code",
   "execution_count": null,
   "id": "b76b7f53-5728-48a8-9ac8-3f311c90cd2f",
   "metadata": {},
   "outputs": [],
   "source": []
  }
 ],
 "metadata": {
  "kernelspec": {
   "display_name": "Python 3 (ipykernel)",
   "language": "python",
   "name": "python3"
  },
  "language_info": {
   "codemirror_mode": {
    "name": "ipython",
    "version": 3
   },
   "file_extension": ".py",
   "mimetype": "text/x-python",
   "name": "python",
   "nbconvert_exporter": "python",
   "pygments_lexer": "ipython3",
   "version": "3.10.8"
  }
 },
 "nbformat": 4,
 "nbformat_minor": 5
}
